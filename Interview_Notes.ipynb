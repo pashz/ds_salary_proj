{
 "cells": [
  {
   "cell_type": "markdown",
   "metadata": {},
   "source": [
    "## Typical Data Science Interview Process\n",
    " - Apply online on indeed\n",
    " - Robot screening\n",
    " - Online test\n",
    " - Take home test\n",
    " - HR call\n",
    " - Onsite interview\n",
    "   - Behavioural Qs\n",
    "   - Technical Qs\n",
    "     - Written\n",
    "     - Whiteboarding\n",
    "   - Use case Qs (Business Qs)\n",
    " - Meet the VP"
   ]
  },
  {
   "cell_type": "markdown",
   "metadata": {},
   "source": [
    "## 1. General ML Questions"
   ]
  },
  {
   "cell_type": "markdown",
   "metadata": {},
   "source": [
    "#### What is the relationship between AI, Machine Learning, and Deep Learning?\n",
    "\n"
   ]
  },
  {
   "cell_type": "markdown",
   "metadata": {},
   "source": [
    "#### Explain machine learning modeling lifecycle. Walk me through the process of one of your ML projects."
   ]
  },
  {
   "cell_type": "markdown",
   "metadata": {},
   "source": [
    "#### What is the difference between an algorithm and a model?"
   ]
  },
  {
   "cell_type": "markdown",
   "metadata": {},
   "source": [
    "#### Parameter Vs Hyperparameter?\n",
    "\n",
    "Hyperparameter is an attribute of the algorithm, before the model is fit.\n",
    "Parameter is an attribute of the model.\n",
    "\n",
    "Decision Tree, KNN, is non-parametric."
   ]
  },
  {
   "cell_type": "markdown",
   "metadata": {},
   "source": [
    "#### No Free Lunch Theorem\n"
   ]
  },
  {
   "cell_type": "markdown",
   "metadata": {},
   "source": [
    "#### Curse of dimensionality"
   ]
  },
  {
   "cell_type": "code",
   "execution_count": null,
   "metadata": {},
   "outputs": [],
   "source": []
  }
 ],
 "metadata": {
  "kernelspec": {
   "display_name": "Python 3",
   "language": "python",
   "name": "python3"
  },
  "language_info": {
   "codemirror_mode": {
    "name": "ipython",
    "version": 3
   },
   "file_extension": ".py",
   "mimetype": "text/x-python",
   "name": "python",
   "nbconvert_exporter": "python",
   "pygments_lexer": "ipython3",
   "version": "3.7.4"
  }
 },
 "nbformat": 4,
 "nbformat_minor": 4
}
