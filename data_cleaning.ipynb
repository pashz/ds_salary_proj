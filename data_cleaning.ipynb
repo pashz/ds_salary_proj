{
 "cells": [
  {
   "cell_type": "markdown",
   "metadata": {},
   "source": [
    "## Package Import"
   ]
  },
  {
   "cell_type": "code",
   "execution_count": 2,
   "metadata": {},
   "outputs": [],
   "source": [
    "import pandas as pd"
   ]
  },
  {
   "cell_type": "markdown",
   "metadata": {},
   "source": [
    "## Import CSV"
   ]
  },
  {
   "cell_type": "code",
   "execution_count": 4,
   "metadata": {},
   "outputs": [],
   "source": [
    "df = pd.read_csv('raw_data_usa.csv')"
   ]
  },
  {
   "cell_type": "code",
   "execution_count": 5,
   "metadata": {},
   "outputs": [
    {
     "data": {
      "text/html": [
       "<div>\n",
       "<style scoped>\n",
       "    .dataframe tbody tr th:only-of-type {\n",
       "        vertical-align: middle;\n",
       "    }\n",
       "\n",
       "    .dataframe tbody tr th {\n",
       "        vertical-align: top;\n",
       "    }\n",
       "\n",
       "    .dataframe thead th {\n",
       "        text-align: right;\n",
       "    }\n",
       "</style>\n",
       "<table border=\"1\" class=\"dataframe\">\n",
       "  <thead>\n",
       "    <tr style=\"text-align: right;\">\n",
       "      <th></th>\n",
       "      <th>Unnamed: 0</th>\n",
       "      <th>Job Title</th>\n",
       "      <th>Salary Estimate</th>\n",
       "      <th>Job Description</th>\n",
       "      <th>Rating</th>\n",
       "      <th>Company Name</th>\n",
       "      <th>Location</th>\n",
       "      <th>Headquarters</th>\n",
       "      <th>Size</th>\n",
       "      <th>Founded</th>\n",
       "      <th>Type of ownership</th>\n",
       "      <th>Industry</th>\n",
       "      <th>Sector</th>\n",
       "      <th>Revenue</th>\n",
       "      <th>Competitors</th>\n",
       "    </tr>\n",
       "  </thead>\n",
       "  <tbody>\n",
       "    <tr>\n",
       "      <td>0</td>\n",
       "      <td>0</td>\n",
       "      <td>Data Scientist</td>\n",
       "      <td>$70K-$116K (Glassdoor est.)</td>\n",
       "      <td>Secure our Nation, Ignite your Future\\n\\nJoin ...</td>\n",
       "      <td>4.2</td>\n",
       "      <td>ManTech\\n4.2</td>\n",
       "      <td>Chantilly, VA</td>\n",
       "      <td>Herndon, VA</td>\n",
       "      <td>5001 to 10000 employees</td>\n",
       "      <td>1968</td>\n",
       "      <td>Company - Public</td>\n",
       "      <td>Research &amp; Development</td>\n",
       "      <td>Business Services</td>\n",
       "      <td>$1 to $2 billion (USD)</td>\n",
       "      <td>-1</td>\n",
       "    </tr>\n",
       "    <tr>\n",
       "      <td>1</td>\n",
       "      <td>1</td>\n",
       "      <td>Sr Data Scientist</td>\n",
       "      <td>$70K-$116K (Glassdoor est.)</td>\n",
       "      <td>Description\\n\\nThe Senior Data Scientist is re...</td>\n",
       "      <td>3.1</td>\n",
       "      <td>Healthfirst\\n3.1</td>\n",
       "      <td>New York, NY</td>\n",
       "      <td>New York, NY</td>\n",
       "      <td>1001 to 5000 employees</td>\n",
       "      <td>1993</td>\n",
       "      <td>Nonprofit Organization</td>\n",
       "      <td>Insurance Carriers</td>\n",
       "      <td>Insurance</td>\n",
       "      <td>Unknown / Non-Applicable</td>\n",
       "      <td>EmblemHealth, UnitedHealth Group, Aetna</td>\n",
       "    </tr>\n",
       "    <tr>\n",
       "      <td>2</td>\n",
       "      <td>2</td>\n",
       "      <td>Data &amp; Analytics Consultant</td>\n",
       "      <td>$70K-$116K (Glassdoor est.)</td>\n",
       "      <td>WHO WE LOOK FOR\\n\\nAn SEI Consultant is a mast...</td>\n",
       "      <td>4.6</td>\n",
       "      <td>SEI\\n4.6</td>\n",
       "      <td>Cincinnati, OH</td>\n",
       "      <td>Cincinnati, OH</td>\n",
       "      <td>201 to 500 employees</td>\n",
       "      <td>1992</td>\n",
       "      <td>Company - Private</td>\n",
       "      <td>Consulting</td>\n",
       "      <td>Business Services</td>\n",
       "      <td>$50 to $100 million (USD)</td>\n",
       "      <td>-1</td>\n",
       "    </tr>\n",
       "    <tr>\n",
       "      <td>3</td>\n",
       "      <td>3</td>\n",
       "      <td>Scientist, Pharmacology</td>\n",
       "      <td>$70K-$116K (Glassdoor est.)</td>\n",
       "      <td>Sutro has a unique capability that enables new...</td>\n",
       "      <td>4.3</td>\n",
       "      <td>Sutro Biopharma\\n4.3</td>\n",
       "      <td>United States</td>\n",
       "      <td>South San Francisco, CA</td>\n",
       "      <td>51 to 200 employees</td>\n",
       "      <td>2003</td>\n",
       "      <td>Company - Public</td>\n",
       "      <td>Biotech &amp; Pharmaceuticals</td>\n",
       "      <td>Biotech &amp; Pharmaceuticals</td>\n",
       "      <td>Unknown / Non-Applicable</td>\n",
       "      <td>-1</td>\n",
       "    </tr>\n",
       "    <tr>\n",
       "      <td>4</td>\n",
       "      <td>4</td>\n",
       "      <td>R&amp;D Scientist</td>\n",
       "      <td>$70K-$116K (Glassdoor est.)</td>\n",
       "      <td>Since 2001, Hygiena has been on a mission to b...</td>\n",
       "      <td>3.9</td>\n",
       "      <td>Hygiena\\n3.9</td>\n",
       "      <td>New Castle, DE</td>\n",
       "      <td>Camarillo, CA</td>\n",
       "      <td>201 to 500 employees</td>\n",
       "      <td>-1</td>\n",
       "      <td>Company - Private</td>\n",
       "      <td>Biotech &amp; Pharmaceuticals</td>\n",
       "      <td>Biotech &amp; Pharmaceuticals</td>\n",
       "      <td>$100 to $500 million (USD)</td>\n",
       "      <td>Ecolab, Eurofin Private Investment Office</td>\n",
       "    </tr>\n",
       "    <tr>\n",
       "      <td>...</td>\n",
       "      <td>...</td>\n",
       "      <td>...</td>\n",
       "      <td>...</td>\n",
       "      <td>...</td>\n",
       "      <td>...</td>\n",
       "      <td>...</td>\n",
       "      <td>...</td>\n",
       "      <td>...</td>\n",
       "      <td>...</td>\n",
       "      <td>...</td>\n",
       "      <td>...</td>\n",
       "      <td>...</td>\n",
       "      <td>...</td>\n",
       "      <td>...</td>\n",
       "      <td>...</td>\n",
       "    </tr>\n",
       "    <tr>\n",
       "      <td>985</td>\n",
       "      <td>985</td>\n",
       "      <td>Machine Learning Scientist / Engineer</td>\n",
       "      <td>$141K-$222K (Glassdoor est.)</td>\n",
       "      <td>, 2020\\nRole Number:\\n200152401\\nImagine what ...</td>\n",
       "      <td>4.1</td>\n",
       "      <td>Apple\\n4.1</td>\n",
       "      <td>Santa Clara, CA</td>\n",
       "      <td>Cupertino, CA</td>\n",
       "      <td>10000+ employees</td>\n",
       "      <td>1976</td>\n",
       "      <td>Company - Public</td>\n",
       "      <td>Computer Hardware &amp; Software</td>\n",
       "      <td>Information Technology</td>\n",
       "      <td>$10+ billion (USD)</td>\n",
       "      <td>Google, Microsoft, Samsung Electronics</td>\n",
       "    </tr>\n",
       "    <tr>\n",
       "      <td>986</td>\n",
       "      <td>986</td>\n",
       "      <td>Data Scientist</td>\n",
       "      <td>$141K-$222K (Glassdoor est.)</td>\n",
       "      <td>Job Description\\nAbout Infinitive:\\n\\nAt Infin...</td>\n",
       "      <td>3.4</td>\n",
       "      <td>Infinitive Inc\\n3.4</td>\n",
       "      <td>McLean, VA</td>\n",
       "      <td>Cedar Rapids, IA</td>\n",
       "      <td>201 to 500 employees</td>\n",
       "      <td>1997</td>\n",
       "      <td>Company - Private</td>\n",
       "      <td>Enterprise Software &amp; Network Solutions</td>\n",
       "      <td>Information Technology</td>\n",
       "      <td>$10 to $25 million (USD)</td>\n",
       "      <td>-1</td>\n",
       "    </tr>\n",
       "    <tr>\n",
       "      <td>987</td>\n",
       "      <td>987</td>\n",
       "      <td>Data Scientist</td>\n",
       "      <td>$141K-$222K (Glassdoor est.)</td>\n",
       "      <td>MUST HAVE SECRET CLEARANCE\\n\\nDescription:\\nDe...</td>\n",
       "      <td>3.4</td>\n",
       "      <td>MILVETS Systems Technology, Inc.\\n3.4</td>\n",
       "      <td>Patuxent River, MD</td>\n",
       "      <td>Orlando, FL</td>\n",
       "      <td>51 to 200 employees</td>\n",
       "      <td>1986</td>\n",
       "      <td>Company - Private</td>\n",
       "      <td>IT Services</td>\n",
       "      <td>Information Technology</td>\n",
       "      <td>$25 to $50 million (USD)</td>\n",
       "      <td>-1</td>\n",
       "    </tr>\n",
       "    <tr>\n",
       "      <td>988</td>\n",
       "      <td>988</td>\n",
       "      <td>Data Scientist</td>\n",
       "      <td>$141K-$222K (Glassdoor est.)</td>\n",
       "      <td>Job SummaryJob Title: Data ScientistEmployer: ...</td>\n",
       "      <td>2.4</td>\n",
       "      <td>Avantor\\n2.4</td>\n",
       "      <td>Wayne, PA</td>\n",
       "      <td>Radnor, PA</td>\n",
       "      <td>10000+ employees</td>\n",
       "      <td>1904</td>\n",
       "      <td>Company - Public</td>\n",
       "      <td>Biotech &amp; Pharmaceuticals</td>\n",
       "      <td>Biotech &amp; Pharmaceuticals</td>\n",
       "      <td>$2 to $5 billion (USD)</td>\n",
       "      <td>Thermo Fisher Scientific, MilliporeSigma, Merc...</td>\n",
       "    </tr>\n",
       "    <tr>\n",
       "      <td>989</td>\n",
       "      <td>989</td>\n",
       "      <td>Data Scientist</td>\n",
       "      <td>$141K-$222K (Glassdoor est.)</td>\n",
       "      <td>Job Description\\nAuSuM Systems is a global lea...</td>\n",
       "      <td>4.5</td>\n",
       "      <td>AuSuM Systems\\n4.5</td>\n",
       "      <td>Miami, FL</td>\n",
       "      <td>Miami, FL</td>\n",
       "      <td>1 to 50 employees</td>\n",
       "      <td>1994</td>\n",
       "      <td>Company - Private</td>\n",
       "      <td>-1</td>\n",
       "      <td>-1</td>\n",
       "      <td>$10 to $25 million (USD)</td>\n",
       "      <td>-1</td>\n",
       "    </tr>\n",
       "  </tbody>\n",
       "</table>\n",
       "<p>990 rows × 15 columns</p>\n",
       "</div>"
      ],
      "text/plain": [
       "     Unnamed: 0                              Job Title  \\\n",
       "0             0                         Data Scientist   \n",
       "1             1                      Sr Data Scientist   \n",
       "2             2            Data & Analytics Consultant   \n",
       "3             3                Scientist, Pharmacology   \n",
       "4             4                          R&D Scientist   \n",
       "..          ...                                    ...   \n",
       "985         985  Machine Learning Scientist / Engineer   \n",
       "986         986                         Data Scientist   \n",
       "987         987                         Data Scientist   \n",
       "988         988                         Data Scientist   \n",
       "989         989                         Data Scientist   \n",
       "\n",
       "                  Salary Estimate  \\\n",
       "0     $70K-$116K (Glassdoor est.)   \n",
       "1     $70K-$116K (Glassdoor est.)   \n",
       "2     $70K-$116K (Glassdoor est.)   \n",
       "3     $70K-$116K (Glassdoor est.)   \n",
       "4     $70K-$116K (Glassdoor est.)   \n",
       "..                            ...   \n",
       "985  $141K-$222K (Glassdoor est.)   \n",
       "986  $141K-$222K (Glassdoor est.)   \n",
       "987  $141K-$222K (Glassdoor est.)   \n",
       "988  $141K-$222K (Glassdoor est.)   \n",
       "989  $141K-$222K (Glassdoor est.)   \n",
       "\n",
       "                                       Job Description  Rating  \\\n",
       "0    Secure our Nation, Ignite your Future\\n\\nJoin ...     4.2   \n",
       "1    Description\\n\\nThe Senior Data Scientist is re...     3.1   \n",
       "2    WHO WE LOOK FOR\\n\\nAn SEI Consultant is a mast...     4.6   \n",
       "3    Sutro has a unique capability that enables new...     4.3   \n",
       "4    Since 2001, Hygiena has been on a mission to b...     3.9   \n",
       "..                                                 ...     ...   \n",
       "985  , 2020\\nRole Number:\\n200152401\\nImagine what ...     4.1   \n",
       "986  Job Description\\nAbout Infinitive:\\n\\nAt Infin...     3.4   \n",
       "987  MUST HAVE SECRET CLEARANCE\\n\\nDescription:\\nDe...     3.4   \n",
       "988  Job SummaryJob Title: Data ScientistEmployer: ...     2.4   \n",
       "989  Job Description\\nAuSuM Systems is a global lea...     4.5   \n",
       "\n",
       "                              Company Name            Location  \\\n",
       "0                             ManTech\\n4.2       Chantilly, VA   \n",
       "1                         Healthfirst\\n3.1        New York, NY   \n",
       "2                                 SEI\\n4.6      Cincinnati, OH   \n",
       "3                     Sutro Biopharma\\n4.3       United States   \n",
       "4                             Hygiena\\n3.9      New Castle, DE   \n",
       "..                                     ...                 ...   \n",
       "985                             Apple\\n4.1     Santa Clara, CA   \n",
       "986                    Infinitive Inc\\n3.4          McLean, VA   \n",
       "987  MILVETS Systems Technology, Inc.\\n3.4  Patuxent River, MD   \n",
       "988                           Avantor\\n2.4           Wayne, PA   \n",
       "989                     AuSuM Systems\\n4.5           Miami, FL   \n",
       "\n",
       "                Headquarters                     Size  Founded  \\\n",
       "0                Herndon, VA  5001 to 10000 employees     1968   \n",
       "1               New York, NY   1001 to 5000 employees     1993   \n",
       "2             Cincinnati, OH     201 to 500 employees     1992   \n",
       "3    South San Francisco, CA      51 to 200 employees     2003   \n",
       "4              Camarillo, CA     201 to 500 employees       -1   \n",
       "..                       ...                      ...      ...   \n",
       "985            Cupertino, CA         10000+ employees     1976   \n",
       "986         Cedar Rapids, IA     201 to 500 employees     1997   \n",
       "987              Orlando, FL      51 to 200 employees     1986   \n",
       "988               Radnor, PA         10000+ employees     1904   \n",
       "989                Miami, FL        1 to 50 employees     1994   \n",
       "\n",
       "          Type of ownership                                 Industry  \\\n",
       "0          Company - Public                   Research & Development   \n",
       "1    Nonprofit Organization                       Insurance Carriers   \n",
       "2         Company - Private                               Consulting   \n",
       "3          Company - Public                Biotech & Pharmaceuticals   \n",
       "4         Company - Private                Biotech & Pharmaceuticals   \n",
       "..                      ...                                      ...   \n",
       "985        Company - Public             Computer Hardware & Software   \n",
       "986       Company - Private  Enterprise Software & Network Solutions   \n",
       "987       Company - Private                              IT Services   \n",
       "988        Company - Public                Biotech & Pharmaceuticals   \n",
       "989       Company - Private                                       -1   \n",
       "\n",
       "                        Sector                     Revenue  \\\n",
       "0            Business Services      $1 to $2 billion (USD)   \n",
       "1                    Insurance    Unknown / Non-Applicable   \n",
       "2            Business Services   $50 to $100 million (USD)   \n",
       "3    Biotech & Pharmaceuticals    Unknown / Non-Applicable   \n",
       "4    Biotech & Pharmaceuticals  $100 to $500 million (USD)   \n",
       "..                         ...                         ...   \n",
       "985     Information Technology          $10+ billion (USD)   \n",
       "986     Information Technology    $10 to $25 million (USD)   \n",
       "987     Information Technology    $25 to $50 million (USD)   \n",
       "988  Biotech & Pharmaceuticals      $2 to $5 billion (USD)   \n",
       "989                         -1    $10 to $25 million (USD)   \n",
       "\n",
       "                                           Competitors  \n",
       "0                                                   -1  \n",
       "1              EmblemHealth, UnitedHealth Group, Aetna  \n",
       "2                                                   -1  \n",
       "3                                                   -1  \n",
       "4            Ecolab, Eurofin Private Investment Office  \n",
       "..                                                 ...  \n",
       "985             Google, Microsoft, Samsung Electronics  \n",
       "986                                                 -1  \n",
       "987                                                 -1  \n",
       "988  Thermo Fisher Scientific, MilliporeSigma, Merc...  \n",
       "989                                                 -1  \n",
       "\n",
       "[990 rows x 15 columns]"
      ]
     },
     "execution_count": 5,
     "metadata": {},
     "output_type": "execute_result"
    }
   ],
   "source": [
    "df"
   ]
  },
  {
   "cell_type": "code",
   "execution_count": 6,
   "metadata": {},
   "outputs": [],
   "source": [
    "df = df.drop('Unnamed: 0', axis=1)"
   ]
  },
  {
   "cell_type": "code",
   "execution_count": 8,
   "metadata": {},
   "outputs": [],
   "source": [
    "# salary parsing\n",
    "# company name text only\n",
    "# state field\n",
    "# age of company\n",
    "# parsing of job description(python, etc)\n",
    "\n",
    "# df = df[df['Salary Estimate'] != '-1'] # if salary estimate missing"
   ]
  },
  {
   "cell_type": "code",
   "execution_count": 10,
   "metadata": {},
   "outputs": [
    {
     "data": {
      "text/plain": [
       "(990, 14)"
      ]
     },
     "execution_count": 10,
     "metadata": {},
     "output_type": "execute_result"
    }
   ],
   "source": [
    "df.shape"
   ]
  },
  {
   "cell_type": "markdown",
   "metadata": {},
   "source": [
    "## Salary Parsing"
   ]
  },
  {
   "cell_type": "code",
   "execution_count": 11,
   "metadata": {},
   "outputs": [],
   "source": [
    "salary = df['Salary Estimate'].apply(lambda x: x.split('(')[0])"
   ]
  },
  {
   "cell_type": "code",
   "execution_count": 14,
   "metadata": {},
   "outputs": [],
   "source": [
    "minus_kd = salary.apply(lambda x: x.replace('$', '').replace('K',''))"
   ]
  },
  {
   "cell_type": "code",
   "execution_count": 48,
   "metadata": {},
   "outputs": [
    {
     "data": {
      "text/plain": [
       "141-222     64\n",
       "79-125      32\n",
       "145-163     32\n",
       "110-139     32\n",
       "113-182     32\n",
       "92-151      32\n",
       "70-118      32\n",
       "102-164     32\n",
       "79-133      32\n",
       "148-174     32\n",
       "92-147      32\n",
       "61-104      32\n",
       "105-166     32\n",
       "141-225     32\n",
       "96-156      32\n",
       "66-112      32\n",
       "85-137      32\n",
       "110-174     32\n",
       "79-131      32\n",
       "79-130      32\n",
       "65-107      32\n",
       "52-91       32\n",
       "135-165     32\n",
       "78-128      32\n",
       "80-132      32\n",
       "59-100      32\n",
       "99-110      32\n",
       "92-155      32\n",
       "55-91       32\n",
       "70-116      30\n",
       "Name: Salary Estimate, dtype: int64"
      ]
     },
     "execution_count": 48,
     "metadata": {},
     "output_type": "execute_result"
    }
   ],
   "source": [
    "minus_kd.value_counts()"
   ]
  },
  {
   "cell_type": "code",
   "execution_count": 17,
   "metadata": {},
   "outputs": [],
   "source": [
    "# df['hourly'] = df['Salary Estimate'].apply(lambda x: 1 if 'per hour' in x.lower() else 0) # \"if there are hourly\"\n",
    "# df['hourly'].value_counts()\n",
    "# df = df.drop('hourly', axis = 1) # \" since no hourly\""
   ]
  },
  {
   "cell_type": "code",
   "execution_count": 43,
   "metadata": {},
   "outputs": [],
   "source": [
    "df['min_salary'] = (minus_kd.apply(lambda x: x.split('-')[0])).astype(int)"
   ]
  },
  {
   "cell_type": "code",
   "execution_count": 44,
   "metadata": {},
   "outputs": [],
   "source": [
    "df['max_salary'] = (minus_kd.apply(lambda x: x.split('-')[1])).astype(int)"
   ]
  },
  {
   "cell_type": "code",
   "execution_count": 45,
   "metadata": {},
   "outputs": [],
   "source": [
    "df['avg_salary'] = (df.min_salary + df.max_salary)/2"
   ]
  },
  {
   "cell_type": "code",
   "execution_count": 57,
   "metadata": {},
   "outputs": [
    {
     "data": {
      "text/plain": [
       "106.0    64\n",
       "104.5    64\n",
       "181.5    64\n",
       "135.5    32\n",
       "86.0     32\n",
       "89.0     32\n",
       "103.0    32\n",
       "105.0    32\n",
       "111.0    32\n",
       "73.0     32\n",
       "126.0    32\n",
       "71.5     32\n",
       "142.0    32\n",
       "183.0    32\n",
       "94.0     32\n",
       "102.0    32\n",
       "79.5     32\n",
       "124.5    32\n",
       "154.0    32\n",
       "150.0    32\n",
       "147.5    32\n",
       "133.0    32\n",
       "121.5    32\n",
       "123.5    32\n",
       "82.5     32\n",
       "119.5    32\n",
       "161.0    32\n",
       "93.0     30\n",
       "Name: avg_salary, dtype: int64"
      ]
     },
     "execution_count": 57,
     "metadata": {},
     "output_type": "execute_result"
    }
   ],
   "source": [
    "df['avg_salary'].value_counts()"
   ]
  },
  {
   "cell_type": "markdown",
   "metadata": {},
   "source": [
    "## Company Text Parsing"
   ]
  },
  {
   "cell_type": "code",
   "execution_count": 53,
   "metadata": {},
   "outputs": [],
   "source": [
    "df['company_txt'] = df['Company Name'].apply(lambda x: x.split('\\n')[0])"
   ]
  },
  {
   "cell_type": "code",
   "execution_count": 55,
   "metadata": {},
   "outputs": [
    {
     "data": {
      "text/plain": [
       "Moderna Therapeutics            21\n",
       "Wells Fargo                     19\n",
       "AstraZeneca                     17\n",
       "MITRE                           11\n",
       "Southwest Research Institute    11\n",
       "                                ..\n",
       "AbbVie                           1\n",
       "Criteo                           1\n",
       "RADCube                          1\n",
       "Livongo                          1\n",
       "AgreeYa Solutions                1\n",
       "Name: company_txt, Length: 539, dtype: int64"
      ]
     },
     "execution_count": 55,
     "metadata": {},
     "output_type": "execute_result"
    }
   ],
   "source": [
    "df['company_txt'].value_counts()"
   ]
  },
  {
   "cell_type": "markdown",
   "metadata": {},
   "source": [
    "## Job State Parsing"
   ]
  },
  {
   "cell_type": "code",
   "execution_count": null,
   "metadata": {},
   "outputs": [],
   "source": [
    "df['Location'].value_counts()"
   ]
  },
  {
   "cell_type": "code",
   "execution_count": 131,
   "metadata": {},
   "outputs": [],
   "source": [
    "df['job_state'] = df['Location'].apply(lambda x: x[-2:] if ',' in x else x)"
   ]
  },
  {
   "cell_type": "code",
   "execution_count": 132,
   "metadata": {},
   "outputs": [],
   "source": [
    "df['job_state'] = df['job_state'].apply(lambda x: x.replace('New Jersey', 'NJ')\\\n",
    "                                        .replace('New York State', 'NY').replace('Utah', 'UT')\\\n",
    "                                        .replace('California', 'CA').replace('Maryland', 'MD'))"
   ]
  },
  {
   "cell_type": "code",
   "execution_count": 138,
   "metadata": {},
   "outputs": [],
   "source": [
    "# df['job_state'] = df['job_state'].apply(lambda x: x.replace('United States', df['Headquarters'].iloc[x.index]))\n",
    "# df['job_state'] = df.apply(lambda x: x['Headquarters'][-2:] if x['job_state'] == 'United States' else x['job_state'])"
   ]
  },
  {
   "cell_type": "code",
   "execution_count": 140,
   "metadata": {},
   "outputs": [
    {
     "data": {
      "text/plain": [
       "CA               193\n",
       "VA               115\n",
       "MA               114\n",
       "NY                84\n",
       "MD                46\n",
       "IL                41\n",
       "TX                39\n",
       "PA                33\n",
       "NC                31\n",
       "OH                24\n",
       "WA                24\n",
       "NJ                18\n",
       "IN                18\n",
       "DC                17\n",
       "FL                17\n",
       "AZ                17\n",
       "UT                16\n",
       "CO                16\n",
       "WI                14\n",
       "MO                13\n",
       "AL                 9\n",
       "SC                 9\n",
       "United States      9\n",
       "IA                 8\n",
       "MI                 8\n",
       "MN                 6\n",
       "GA                 6\n",
       "OK                 6\n",
       "TN                 5\n",
       "OR                 5\n",
       "CT                 5\n",
       "Remote             5\n",
       "AR                 4\n",
       "NE                 3\n",
       "NH                 3\n",
       "MS                 2\n",
       "AK                 1\n",
       "ID                 1\n",
       "NV                 1\n",
       "LA                 1\n",
       "DE                 1\n",
       "RI                 1\n",
       "HI                 1\n",
       "Name: job_state, dtype: int64"
      ]
     },
     "execution_count": 140,
     "metadata": {},
     "output_type": "execute_result"
    }
   ],
   "source": [
    "df['job_state'].value_counts()"
   ]
  },
  {
   "cell_type": "code",
   "execution_count": null,
   "metadata": {},
   "outputs": [],
   "source": []
  }
 ],
 "metadata": {
  "kernelspec": {
   "display_name": "Python 3",
   "language": "python",
   "name": "python3"
  },
  "language_info": {
   "codemirror_mode": {
    "name": "ipython",
    "version": 3
   },
   "file_extension": ".py",
   "mimetype": "text/x-python",
   "name": "python",
   "nbconvert_exporter": "python",
   "pygments_lexer": "ipython3",
   "version": "3.7.4"
  }
 },
 "nbformat": 4,
 "nbformat_minor": 4
}
